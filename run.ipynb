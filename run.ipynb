{
 "cells": [
  {
   "cell_type": "markdown",
   "id": "76f4a67d",
   "metadata": {},
   "source": [
    "# Project 1"
   ]
  },
  {
   "cell_type": "code",
   "execution_count": 1,
   "id": "044ad980",
   "metadata": {},
   "outputs": [],
   "source": [
    "# Useful starting lines\n",
    "%matplotlib inline\n",
    "import numpy as np\n",
    "from helpers import *\n",
    "from implementations import *\n",
    "import matplotlib.pyplot as plt\n",
    "%load_ext autoreload\n",
    "%autoreload 2\n",
    "\n",
    "np.random.seed(0)"
   ]
  },
  {
   "cell_type": "markdown",
   "id": "b1e26dd0",
   "metadata": {},
   "source": [
    "## File names"
   ]
  },
  {
   "cell_type": "code",
   "execution_count": 2,
   "id": "5785b05a",
   "metadata": {},
   "outputs": [],
   "source": [
    "train_data_file = 'train.csv'\n",
    "test_data_file  = 'test.csv'\n",
    "submission_file = 'submission.csv'"
   ]
  },
  {
   "cell_type": "markdown",
   "id": "b475ee87",
   "metadata": {},
   "source": [
    "## Loading the data"
   ]
  },
  {
   "cell_type": "code",
   "execution_count": 3,
   "id": "26947054",
   "metadata": {},
   "outputs": [],
   "source": [
    "y, tx, ids = load_csv_data(train_data_file, sub_sample=False)"
   ]
  },
  {
   "cell_type": "markdown",
   "id": "e2f2a01c",
   "metadata": {},
   "source": [
    "## Exploring the data"
   ]
  },
  {
   "cell_type": "code",
   "execution_count": 4,
   "id": "6cd3c155",
   "metadata": {},
   "outputs": [
    {
     "name": "stdout",
     "output_type": "stream",
     "text": [
      "250000 samples of 30 features.\n"
     ]
    }
   ],
   "source": [
    "sample_shape = tx.shape\n",
    "print(\"{N} samples of {D} features.\".format(N=sample_shape[0], D=sample_shape[1]))"
   ]
  },
  {
   "cell_type": "code",
   "execution_count": 5,
   "id": "3275a2c3",
   "metadata": {},
   "outputs": [
    {
     "name": "stdout",
     "output_type": "stream",
     "text": [
      "labels = [ 1. -1. -1. ...  1. -1. -1.]\n"
     ]
    }
   ],
   "source": [
    "print(\"labels = \" + str(y))"
   ]
  },
  {
   "cell_type": "markdown",
   "id": "73e944ef",
   "metadata": {},
   "source": [
    "For labels, 1 corresponds to a ___signal___ event (Higgs boson decay signature) and -1 corresponds to a ___background___ event (other decay signature)"
   ]
  },
  {
   "cell_type": "code",
   "execution_count": 6,
   "id": "2e079612",
   "metadata": {},
   "outputs": [
    {
     "name": "stdout",
     "output_type": "stream",
     "text": [
      "data features:\n"
     ]
    },
    {
     "data": {
      "text/plain": [
       "{0: 'DER_mass_MMC',\n",
       " 1: 'DER_mass_transverse_met_lep',\n",
       " 2: 'DER_mass_vis',\n",
       " 3: 'DER_pt_h',\n",
       " 4: 'DER_deltaeta_jet_jet',\n",
       " 5: 'DER_mass_jet_jet',\n",
       " 6: 'DER_prodeta_jet_jet',\n",
       " 7: 'DER_deltar_tau_lep',\n",
       " 8: 'DER_pt_tot',\n",
       " 9: 'DER_sum_pt',\n",
       " 10: 'DER_pt_ratio_lep_tau',\n",
       " 11: 'DER_met_phi_centrality',\n",
       " 12: 'DER_lep_eta_centrality',\n",
       " 13: 'PRI_tau_pt',\n",
       " 14: 'PRI_tau_eta',\n",
       " 15: 'PRI_tau_phi',\n",
       " 16: 'PRI_lep_pt',\n",
       " 17: 'PRI_lep_eta',\n",
       " 18: 'PRI_lep_phi',\n",
       " 19: 'PRI_met',\n",
       " 20: 'PRI_met_phi',\n",
       " 21: 'PRI_met_sumet',\n",
       " 22: 'PRI_jet_num',\n",
       " 23: 'PRI_jet_leading_pt',\n",
       " 24: 'PRI_jet_leading_eta',\n",
       " 25: 'PRI_jet_leading_phi',\n",
       " 26: 'PRI_jet_subleading_pt',\n",
       " 27: 'PRI_jet_subleading_eta',\n",
       " 28: 'PRI_jet_subleading_phi',\n",
       " 29: 'PRI_jet_all_pt'}"
      ]
     },
     "execution_count": 6,
     "metadata": {},
     "output_type": "execute_result"
    }
   ],
   "source": [
    "headers = \"DER_mass_MMC,DER_mass_transverse_met_lep,DER_mass_vis,DER_pt_h,DER_deltaeta_jet_jet,DER_mass_jet_jet,DER_prodeta_jet_jet,DER_deltar_tau_lep,DER_pt_tot,DER_sum_pt,DER_pt_ratio_lep_tau,DER_met_phi_centrality,DER_lep_eta_centrality,PRI_tau_pt,PRI_tau_eta,PRI_tau_phi,PRI_lep_pt,PRI_lep_eta,PRI_lep_phi,PRI_met,PRI_met_phi,PRI_met_sumet,PRI_jet_num,PRI_jet_leading_pt,PRI_jet_leading_eta,PRI_jet_leading_phi,PRI_jet_subleading_pt,PRI_jet_subleading_eta,PRI_jet_subleading_phi,PRI_jet_all_pt\"\n",
    "headers = headers.split(\",\")\n",
    "headers = {k:h for k, h in enumerate(headers)}\n",
    "print(\"data features:\")\n",
    "headers"
   ]
  },
  {
   "cell_type": "markdown",
   "id": "a4343a72",
   "metadata": {},
   "source": [
    " - all variables are floating point, except PRI_jet_num which is integer\n",
    " - variables prefixed with PRI (for PRImitives) are “raw” quantities about the bunch collision as measured by the detector.\n",
    " - variables prefixed with DER (for DERived) are quantities computed from the primitive features, which were selected by the physicists of ATLAS.\n",
    " - it can happen that for some entries some variables are meaningless or cannot be computed; in this case, their value is −999.0, which is outside the normal range of all variables.\n"
   ]
  },
  {
   "cell_type": "markdown",
   "id": "9c24f4e5",
   "metadata": {},
   "source": [
    "## Pre-processing data\n",
    "- split column \"mn ’PRI jet num'\n",
    "- replace -999 with average of whole train\n",
    "- split data 0.8:0.2\n",
    "- normalize\n",
    "- add bias in data"
   ]
  },
  {
   "cell_type": "code",
   "execution_count": 7,
   "id": "75de99b3",
   "metadata": {},
   "outputs": [],
   "source": [
    "def preprocess(x):\n",
    "    N = x.shape[0]\n",
    "    \n",
    "    # replacing -999 values with feature mean\n",
    "    pos = np.where(x == -999)\n",
    "    x[pos] = np.nan\n",
    "    c_mean = np.nanmean(x, axis=0)\n",
    "    x[pos] = c_mean[pos[1]]\n",
    "    \n",
    "    # split column PRI_jet_num\n",
    "    jet_num = np.zeros((N, 4))\n",
    "    for i in range(4):\n",
    "        row = np.where(x[:, 23] == i)[0]\n",
    "        jet_num[row, i] = 1\n",
    "    x = np.c_[x[:, :23], x[:, 24:]]\n",
    "    x = np.c_[x, jet_num]\n",
    "    \n",
    "    # Normalize\n",
    "    # [:,:-4] don't normalize the discrete values\n",
    "    mean_x = np.mean(x[:,:-4], axis=0)\n",
    "    std_x = np.std(x[:,:-4], axis=0)\n",
    "    x[:,:-4] = (x[:,:-4] - mean_x) / std_x\n",
    "    \n",
    "    # adding bias term\n",
    "    x = np.c_[np.ones(N), x]\n",
    "    \n",
    "    return x\n",
    "    "
   ]
  },
  {
   "cell_type": "code",
   "execution_count": 8,
   "id": "d2dfa85d",
   "metadata": {},
   "outputs": [],
   "source": [
    "data = preprocess(tx)\n",
    "\n",
    "# splitting data 80% - 20%\n",
    "num_samples = data.shape[0]\n",
    "\n",
    "fraction_train = 0.8\n",
    "rinds = np.random.permutation(num_samples)\n",
    "\n",
    "data_train = data[rinds[:int(num_samples * fraction_train)]] \n",
    "y_train = y[rinds[:int(num_samples * fraction_train)]]  \n",
    "\n",
    "data_test = data[rinds[int(num_samples * fraction_train):]] \n",
    "y_test = y[rinds[int(num_samples * fraction_train):]]  "
   ]
  },
  {
   "cell_type": "code",
   "execution_count": 9,
   "id": "80e2d6e6",
   "metadata": {},
   "outputs": [
    {
     "data": {
      "image/png": "[encoded data removed]",
      "text/plain": [
       "<Figure size 1000x1000 with 36 Axes>"
      ]
     },
     "metadata": {},
     "output_type": "display_data"
    }
   ],
   "source": [
    "# check feature-label relations after data pre-processing\n",
    "fig, axs = plt.subplots(6, 6, figsize=(10, 10))\n",
    "for i, x_i in enumerate(data_train.T):\n",
    "    axs[i % 6, i // 6].plot(x_i, y_train, 'r.')"
   ]
  },
  {
   "cell_type": "markdown",
   "id": "71f6a180",
   "metadata": {},
   "source": [
    "## Helpers"
   ]
  },
  {
   "cell_type": "code",
   "execution_count": 10,
   "id": "fdbf9ad7",
   "metadata": {},
   "outputs": [],
   "source": [
    "def accuracy(labels_gt, labels_pred):\n",
    "    \"\"\" Computes accuracy.\n",
    "    \n",
    "    Args:\n",
    "        labels_gt (np.array): GT labels of shape (N, ).\n",
    "        labels_pred (np.array): Predicted labels of shape (N, ).\n",
    "        \n",
    "    Returns:\n",
    "        float: Accuracy, in range [0, 1].\n",
    "    \"\"\"\n",
    "    return np.sum(labels_gt == labels_pred) / labels_gt.shape[0]"
   ]
  },
  {
   "cell_type": "code",
   "execution_count": 11,
   "id": "8d9e634e",
   "metadata": {},
   "outputs": [],
   "source": [
    "def test_phase(w, pred=[], y=y_test, x=data_test, score=True):\n",
    "    if len(pred) == 0:\n",
    "        pred = x @ w\n",
    "        pred = np.array([(-1. if l <= 0 else 1.) for l in pred])\n",
    "    if score:\n",
    "        #loss\n",
    "        test_loss = mse_loss(y, x, w)\n",
    "        print(\"test loss: \" + str(test_loss))\n",
    "        # accuracy\n",
    "        acc = accuracy(y, pred)\n",
    "        print(\"Accuracy = \" + str(acc))\n",
    "    return pred"
   ]
  },
  {
   "cell_type": "markdown",
   "id": "c1ec1f53",
   "metadata": {},
   "source": [
    "## Linear regression using gradient descent"
   ]
  },
  {
   "cell_type": "code",
   "execution_count": 12,
   "id": "5cd6efd2",
   "metadata": {},
   "outputs": [
    {
     "name": "stdout",
     "output_type": "stream",
     "text": [
      "GD: W = [-3.12581302e-01  6.42827901e-03 -2.55247554e-01 -2.56835906e-01\n",
      " -6.67831861e-03  2.30341405e-02  8.76138937e-02  3.62343791e-03\n",
      "  2.80323062e-01 -2.58356246e-02 -1.13496757e-01 -1.89925552e-01\n",
      "  1.22112579e-01  7.53627587e-02  2.05594033e-01  8.68322588e-04\n",
      " -1.32162292e-04  3.12188531e-01 -1.37536032e-03  4.13321218e-03\n",
      "  1.04152497e-01  1.34350866e-03 -5.13788808e-02  1.01568705e-01\n",
      "  2.20459950e-03  1.29229540e-03 -1.95342797e-02  2.51195280e-03\n",
      " -2.50150094e-03  2.20176740e-02  1.00000000e+00  1.00000000e+00\n",
      "  1.00000000e+00  1.00000000e+00],\n",
      " training loss = 0.340912566472905\n",
      "\n"
     ]
    }
   ],
   "source": [
    "# training phase for linear regression with GD\n",
    "D = data_train.shape[1]\n",
    "initial_w = np.ones(D)\n",
    "max_iters = 500\n",
    "gamma = 0.2\n",
    "\n",
    "mse_gd_w, mse_gd_training_loss = mean_squared_error_gd(y_train, data_train, initial_w, max_iters, gamma)"
   ]
  },
  {
   "cell_type": "code",
   "execution_count": 13,
   "id": "c48c69fc",
   "metadata": {
    "scrolled": false
   },
   "outputs": [
    {
     "name": "stdout",
     "output_type": "stream",
     "text": [
      "test loss: 0.3389375941211703\n",
      "Accuracy = 0.74534\n"
     ]
    }
   ],
   "source": [
    "# testing phase for linear regresison with GD\n",
    "pred = test_phase(mse_gd_w)\n",
    "\n",
    "test_y, test_tx, test_ids = load_csv_data(test_data_file, sub_sample=False)\n",
    "test_data = preprocess(test_tx)\n",
    "test_pred = test_phase(mse_gd_w, x=test_data, score=False)\n",
    "create_csv_submission(test_ids, test_pred, \"mse_gd_submission.csv\")"
   ]
  },
  {
   "cell_type": "markdown",
   "id": "4c58610d",
   "metadata": {},
   "source": [
    "## Linear regression using stochastic gradient descent"
   ]
  },
  {
   "cell_type": "code",
   "execution_count": 14,
   "id": "70850ba9",
   "metadata": {},
   "outputs": [
    {
     "name": "stdout",
     "output_type": "stream",
     "text": [
      "SGD: W = [0.92760732 1.01058725 0.99176593 1.00897179 1.00895812 1.\n",
      " 1.         1.         0.96098849 1.04616986 1.0203335  1.01393531\n",
      " 0.90651741 1.         1.01844511 1.00811099 1.0213911  1.01508626\n",
      " 1.0400308  0.88210407 1.01425914 1.06962283 1.02550365 0.99845768\n",
      " 1.07333645 0.94417993 1.         1.         1.         1.01638888\n",
      " 1.         1.         1.         1.        ],\n",
      " training loss = 37.9818382969221\n",
      "\n"
     ]
    }
   ],
   "source": [
    "# training phase for linear regression with SGD\n",
    "D = data_train.shape[1]\n",
    "initial_w = np.ones(D)\n",
    "max_iters = 100\n",
    "gamma = 0.1\n",
    "\n",
    "mse_sgd_w, mse_sgd_training_loss = mean_squared_error_sgd(y_train, data_train, initial_w, max_iters, gamma)"
   ]
  },
  {
   "cell_type": "code",
   "execution_count": 15,
   "id": "eb9397b5",
   "metadata": {},
   "outputs": [
    {
     "name": "stdout",
     "output_type": "stream",
     "text": [
      "test loss: 38.14951916515017\n",
      "Accuracy = 0.56966\n"
     ]
    }
   ],
   "source": [
    "# testing phase for linear regresison with SGD\n",
    "pred = test_phase(mse_sgd_w)\n",
    "\n",
    "# the accuracy ranges from 0.5ish to 0.75ish when the random seed is not set\n",
    "# here the seed is set to 0 for reproducibility\n",
    "\n",
    "test_pred = test_phase(mse_sgd_w, x=test_data, score=False)\n",
    "create_csv_submission(test_ids, test_pred, \"mse_sgd_submission.csv\")"
   ]
  },
  {
   "cell_type": "markdown",
   "id": "c376779a",
   "metadata": {},
   "source": [
    "## Least squares regression using normal equations"
   ]
  },
  {
   "cell_type": "code",
   "execution_count": 16,
   "id": "6deda848",
   "metadata": {},
   "outputs": [
    {
     "name": "stdout",
     "output_type": "stream",
     "text": [
      "LS: W = [-3.12581147e-01  6.40195429e-03 -2.55282164e-01 -2.56777390e-01\n",
      " -6.89612655e-03  2.30449642e-02  8.75859904e-02  3.61179216e-03\n",
      "  2.80271551e-01 -2.58272120e-02 -4.98294592e+01 -1.89896279e-01\n",
      "  1.22162157e-01  7.53611230e-02  9.83551693e+00  8.68064831e-04\n",
      " -1.32480450e-04  9.79292354e+00 -1.37483495e-03  4.13342034e-03\n",
      "  1.04207259e-01  1.34324400e-03 -5.14380862e-02  1.01398205e-01\n",
      "  2.20410824e-03  1.29214385e-03 -1.96293626e-02  2.51203016e-03\n",
      " -2.50243047e-03  4.21371788e+01  0.00000000e+00  0.00000000e+00\n",
      "  0.00000000e+00  0.00000000e+00],\n",
      " training loss = 0.34091253374220704\n",
      "\n"
     ]
    }
   ],
   "source": [
    "# training phase for LS regression\n",
    "ls_w, ls_loss = least_squares(y_train, data_train)"
   ]
  },
  {
   "cell_type": "code",
   "execution_count": 17,
   "id": "23b2374d",
   "metadata": {},
   "outputs": [
    {
     "name": "stdout",
     "output_type": "stream",
     "text": [
      "test loss: 0.33893695190260553\n",
      "Accuracy = 0.74534\n"
     ]
    }
   ],
   "source": [
    "# testing phase for LS regression\n",
    "pred = test_phase(ls_w)\n",
    "\n",
    "test_pred = test_phase(ls_w, x=test_data, score=False)\n",
    "create_csv_submission(test_ids, test_pred, \"ls_submission.csv\")"
   ]
  },
  {
   "cell_type": "markdown",
   "id": "7c560df0",
   "metadata": {},
   "source": [
    "## Ridge regression using normal equations"
   ]
  },
  {
   "cell_type": "code",
   "execution_count": 18,
   "id": "a1a14ba5",
   "metadata": {},
   "outputs": [
    {
     "name": "stdout",
     "output_type": "stream",
     "text": [
      "RR: W = [-0.19540207 -0.00211756 -0.1483152  -0.02526952  0.04158801  0.04072969\n",
      "  0.04093489 -0.02553658  0.07068217 -0.02572161  0.02419225 -0.06607556\n",
      "  0.09183806  0.0526292   0.08822831  0.00019997 -0.00170624  0.0266495\n",
      " -0.00027961  0.00267495  0.00156554  0.00220717  0.0042734   0.01383086\n",
      "  0.00091979  0.00113319 -0.02731224  0.00138436 -0.0016896   0.00238526\n",
      "  0.          0.          0.          0.        ],\n",
      " training loss = 0.3665966554487001\n",
      "\n"
     ]
    }
   ],
   "source": [
    "# training phase for ridge regression\n",
    "lambda_ = 0.3\n",
    "rr_w, rr_loss = ridge_regression(y_train, data_train, lambda_)"
   ]
  },
  {
   "cell_type": "code",
   "execution_count": 19,
   "id": "e1f5c2b1",
   "metadata": {},
   "outputs": [
    {
     "name": "stdout",
     "output_type": "stream",
     "text": [
      "test loss: 0.3655179085626631\n",
      "Accuracy = 0.728\n"
     ]
    }
   ],
   "source": [
    "# testing phase for ridge regression\n",
    "pred = test_phase(rr_w)\n",
    "\n",
    "test_pred = test_phase(rr_w, x=test_data, score=False)\n",
    "create_csv_submission(test_ids, test_pred, \"rr_submission.csv\")"
   ]
  },
  {
   "cell_type": "markdown",
   "id": "d391bc21",
   "metadata": {},
   "source": [
    "## Logistic Regression"
   ]
  },
  {
   "cell_type": "code",
   "execution_count": 20,
   "id": "da95e5da",
   "metadata": {},
   "outputs": [],
   "source": [
    "# switch labels to y \\in {0, 1} for logistic regression\n",
    "y_train_log = y_train.copy()\n",
    "y_train_log[y_train_log < 0] = 0\n",
    "y_test_log = y_test.copy()\n",
    "y_test_log[y_test_log < 0] = 0"
   ]
  },
  {
   "cell_type": "code",
   "execution_count": 21,
   "id": "7f8190c2",
   "metadata": {
    "scrolled": true
   },
   "outputs": [
    {
     "name": "stdout",
     "output_type": "stream",
     "text": [
      "LogReg: W = [-7.49443522e-01 -2.07927437e-01 -4.72472204e-01 -3.70922783e-01\n",
      "  3.18038716e-01  5.87663867e-01  6.24764892e-01  8.97540358e-01\n",
      "  8.10700853e-01 -1.05028557e-01 -1.18309382e-01  9.52054989e-04\n",
      "  4.61473306e-01  3.99290488e-01  8.88353867e-01 -5.99111025e-03\n",
      "  2.31360077e-01  6.80968360e-02 -1.76763246e-02  2.79653284e-01\n",
      "  1.08008388e-01  1.68025291e-01 -1.44163633e-01  1.45394758e-01\n",
      "  7.91288987e-02  2.98259400e-01  3.69754831e-02  1.78218118e-01\n",
      "  2.18767682e-01 -8.48331756e-02  1.00000000e+00  1.00000000e+00\n",
      "  1.00000000e+00  1.00000000e+00],\n",
      " training loss = 0.5526604988440078\n",
      "\n"
     ]
    }
   ],
   "source": [
    "# training logistic regression\n",
    "initial_w = np.ones(data_train.shape[1])\n",
    "max_iters = 200\n",
    "gamma = 0.1\n",
    "\n",
    "lr_w, lr_loss = logistic_regression(y_train_log, data_train, initial_w, max_iters, gamma)"
   ]
  },
  {
   "cell_type": "code",
   "execution_count": 22,
   "id": "605de19f",
   "metadata": {},
   "outputs": [
    {
     "name": "stdout",
     "output_type": "stream",
     "text": [
      "accuracy : 0.72522\n",
      "test loss: 0.5486892623102603\n"
     ]
    }
   ],
   "source": [
    "# testing logistic regression\n",
    "test_predict = logistic_regression_classify(data_test, lr_w)\n",
    "test_predict[test_predict == 0] = -1\n",
    "print(\"accuracy :\",accuracy(y_test,test_predict))\n",
    "print(\"test loss:\", loss_logistic(data_test,y_test_log,lr_w,0)) \n",
    "\n",
    "# create_csv_submission(test_ids, test_pred, \"lr_submission.csv\")"
   ]
  },
  {
   "cell_type": "markdown",
   "id": "7f9f1cee",
   "metadata": {},
   "source": [
    "## Regularized Logistic Regression"
   ]
  },
  {
   "cell_type": "code",
   "execution_count": 23,
   "id": "9f5894a2",
   "metadata": {},
   "outputs": [],
   "source": [
    "# training regularized logistic regression\n",
    "initial_w = np.ones(data_train.shape[1])\n",
    "max_iters = 100\n",
    "gamma = 0.1\n",
    "lambda_ = 1e-1\n",
    "\n",
    "rlr_w, rlr_loss = reg_logistic_regression(y_train_log, data_train, lambda_, initial_w, max_iters, gamma)"
   ]
  },
  {
   "cell_type": "code",
   "execution_count": 25,
   "id": "3efec4eb",
   "metadata": {},
   "outputs": [
    {
     "name": "stdout",
     "output_type": "stream",
     "text": [
      "accuracy : 0.72546\n",
      "test loss: 0.5486892623102603\n"
     ]
    }
   ],
   "source": [
    "test_predict = logistic_regression_classify(data_test, rlr_w)\n",
    "test_predict[test_predict == 0] = -1\n",
    "print(\"accuracy :\",accuracy(y_test,test_predict))\n",
    "print(\"test loss:\", loss_logistic(data_test,y_test_log,lr_w,0))\n",
    "# create_csv_submission(test_ids, test_pred, \"rlr_submission.csv\")"
   ]
  },
  {
   "cell_type": "markdown",
   "id": "e7124060",
   "metadata": {},
   "source": [
    "## Logistic Regression with imbalance weights"
   ]
  },
  {
   "cell_type": "code",
   "execution_count": 26,
   "id": "bcacc7ae",
   "metadata": {},
   "outputs": [
    {
     "name": "stdout",
     "output_type": "stream",
     "text": [
      "LogReg: W = [-1.53872723 -0.16673357 -0.55882259 -0.40011914  0.32699213  0.48790745\n",
      "  0.54689889  0.69127738  0.75645363 -0.12791112 -0.14699944 -0.02567524\n",
      "  0.37577525  0.30474303  0.77316139 -0.00363168  0.10983573  0.16538925\n",
      " -0.01940514  0.13661624  0.10187202  0.069491   -0.1575891   0.15021521\n",
      "  0.03398953  0.14070641 -0.03068071  0.05049975  0.07750829 -0.1142638\n",
      "  1.          1.          1.          1.        ],\n",
      " training loss = 0.7049436197877881\n",
      "\n"
     ]
    }
   ],
   "source": [
    "im = imbal(y_train_log)\n",
    "# training logistic regression\n",
    "initial_w = np.ones(data_train.shape[1])\n",
    "max_iters = 200\n",
    "gamma = 0.1\n",
    "\n",
    "ilr_w, ilr_loss = logistic_regression(y_train_log, data_train, initial_w, max_iters, gamma,im)"
   ]
  },
  {
   "cell_type": "code",
   "execution_count": 27,
   "id": "81636f13",
   "metadata": {},
   "outputs": [
    {
     "name": "stdout",
     "output_type": "stream",
     "text": [
      "accuracy : 0.71698\n",
      "test loss: 0.6981889346050788\n"
     ]
    }
   ],
   "source": [
    "# testing logistic regression\n",
    "test_predict = logistic_regression_classify(data_test, ilr_w)\n",
    "test_predict[test_predict == 0] = -1\n",
    "print(\"accuracy :\",accuracy(y_test,test_predict))\n",
    "print(\"test loss:\", loss_logistic(data_test,y_test_log,ilr_w,0,imbal(y_test_log)))\n",
    "\n",
    "# create_csv_submission(test_ids, test_pred, \"lr_submission.csv\")"
   ]
  },
  {
   "cell_type": "markdown",
   "id": "fe320609",
   "metadata": {},
   "source": [
    "## Reg Logistic Regression with imbalance weights"
   ]
  },
  {
   "cell_type": "code",
   "execution_count": 28,
   "id": "6bee8610",
   "metadata": {},
   "outputs": [],
   "source": [
    "# training regularized logistic regression\n",
    "initial_w = np.ones(data_train.shape[1])\n",
    "max_iters = 100\n",
    "gamma = 0.1\n",
    "lambda_ = 1e-1\n",
    "\n",
    "irlr_w, irlr_loss = reg_logistic_regression(y_train_log, data_train, lambda_, initial_w, max_iters, gamma,imbal(y_train_log))"
   ]
  },
  {
   "cell_type": "code",
   "execution_count": 29,
   "id": "d12b11f5",
   "metadata": {},
   "outputs": [
    {
     "name": "stdout",
     "output_type": "stream",
     "text": [
      "accuracy : 0.71576\n",
      "test loss: 0.7645848539853911\n"
     ]
    }
   ],
   "source": [
    "test_predict = logistic_regression_classify(data_test, irlr_w)\n",
    "test_predict[test_predict == 0] = -1\n",
    "print(\"accuracy :\",accuracy(y_test,test_predict))\n",
    "print(\"test loss:\", loss_logistic(data_test,y_test_log,irlr_w,0, imbal(y_test_log)))\n",
    "# create_csv_submission(test_ids, test_pred, \"rlr_submission.csv\")"
   ]
  }
 ],
 "metadata": {
  "kernelspec": {
   "display_name": "Python 3 (ipykernel)",
   "language": "python",
   "name": "python3"
  },
  "language_info": {
   "codemirror_mode": {
    "name": "ipython",
    "version": 3
   },
   "file_extension": ".py",
   "mimetype": "text/x-python",
   "name": "python",
   "nbconvert_exporter": "python",
   "pygments_lexer": "ipython3",
   "version": "3.10.8"
  }
 },
 "nbformat": 4,
 "nbformat_minor": 5
}
